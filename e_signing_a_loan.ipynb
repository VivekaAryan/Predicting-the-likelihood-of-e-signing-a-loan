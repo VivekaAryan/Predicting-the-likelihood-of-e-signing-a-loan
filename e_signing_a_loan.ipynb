{
  "nbformat": 4,
  "nbformat_minor": 0,
  "metadata": {
    "colab": {
      "name": "e-signing a loan.ipynb",
      "provenance": [],
      "collapsed_sections": [
        "-mksJBSs0OCN"
      ]
    },
    "kernelspec": {
      "name": "python3",
      "display_name": "Python 3"
    },
    "accelerator": "GPU"
  },
  "cells": [
    {
      "cell_type": "markdown",
      "metadata": {
        "id": "2h9XeO8xMsxf",
        "colab_type": "text"
      },
      "source": [
        "Developed a model to predict for 'Quality' applicants based on their financial history and the likelyhood of e-signing a loan."
      ]
    },
    {
      "cell_type": "code",
      "metadata": {
        "id": "Npf44L-KNLdC",
        "colab_type": "code",
        "outputId": "3ce83f46-1535-4df0-dd78-caae579a37af",
        "colab": {
          "base_uri": "https://localhost:8080/",
          "height": 71
        }
      },
      "source": [
        "import pandas as pd\n",
        "import numpy as np\n",
        "import matplotlib.pyplot as plt\n",
        "import seaborn as sns"
      ],
      "execution_count": 2,
      "outputs": [
        {
          "output_type": "stream",
          "text": [
            "/usr/local/lib/python3.6/dist-packages/statsmodels/tools/_testing.py:19: FutureWarning: pandas.util.testing is deprecated. Use the functions in the public API at pandas.testing instead.\n",
            "  import pandas.util.testing as tm\n"
          ],
          "name": "stderr"
        }
      ]
    },
    {
      "cell_type": "code",
      "metadata": {
        "id": "GCJnywKJPWTT",
        "colab_type": "code",
        "colab": {}
      },
      "source": [
        "dataset = pd.read_csv('Financial-Data.csv')"
      ],
      "execution_count": 0,
      "outputs": []
    },
    {
      "cell_type": "code",
      "metadata": {
        "id": "BgdBzUrTPbvJ",
        "colab_type": "code",
        "outputId": "8abcb43c-9518-4d29-d7a7-f930b927332f",
        "colab": {
          "base_uri": "https://localhost:8080/",
          "height": 379
        }
      },
      "source": [
        "dataset.head(10)"
      ],
      "execution_count": 4,
      "outputs": [
        {
          "output_type": "execute_result",
          "data": {
            "text/html": [
              "<div>\n",
              "<style scoped>\n",
              "    .dataframe tbody tr th:only-of-type {\n",
              "        vertical-align: middle;\n",
              "    }\n",
              "\n",
              "    .dataframe tbody tr th {\n",
              "        vertical-align: top;\n",
              "    }\n",
              "\n",
              "    .dataframe thead th {\n",
              "        text-align: right;\n",
              "    }\n",
              "</style>\n",
              "<table border=\"1\" class=\"dataframe\">\n",
              "  <thead>\n",
              "    <tr style=\"text-align: right;\">\n",
              "      <th></th>\n",
              "      <th>entry_id</th>\n",
              "      <th>age</th>\n",
              "      <th>pay_schedule</th>\n",
              "      <th>home_owner</th>\n",
              "      <th>income</th>\n",
              "      <th>months_employed</th>\n",
              "      <th>years_employed</th>\n",
              "      <th>current_address_year</th>\n",
              "      <th>personal_account_m</th>\n",
              "      <th>personal_account_y</th>\n",
              "      <th>has_debt</th>\n",
              "      <th>amount_requested</th>\n",
              "      <th>risk_score</th>\n",
              "      <th>risk_score_2</th>\n",
              "      <th>risk_score_3</th>\n",
              "      <th>risk_score_4</th>\n",
              "      <th>risk_score_5</th>\n",
              "      <th>ext_quality_score</th>\n",
              "      <th>ext_quality_score_2</th>\n",
              "      <th>inquiries_last_month</th>\n",
              "      <th>e_signed</th>\n",
              "    </tr>\n",
              "  </thead>\n",
              "  <tbody>\n",
              "    <tr>\n",
              "      <th>0</th>\n",
              "      <td>7629673</td>\n",
              "      <td>40</td>\n",
              "      <td>bi-weekly</td>\n",
              "      <td>1</td>\n",
              "      <td>3135</td>\n",
              "      <td>0</td>\n",
              "      <td>3</td>\n",
              "      <td>3</td>\n",
              "      <td>6</td>\n",
              "      <td>2</td>\n",
              "      <td>1</td>\n",
              "      <td>550</td>\n",
              "      <td>36200</td>\n",
              "      <td>0.737398</td>\n",
              "      <td>0.903517</td>\n",
              "      <td>0.487712</td>\n",
              "      <td>0.515977</td>\n",
              "      <td>0.580918</td>\n",
              "      <td>0.380918</td>\n",
              "      <td>10</td>\n",
              "      <td>1</td>\n",
              "    </tr>\n",
              "    <tr>\n",
              "      <th>1</th>\n",
              "      <td>3560428</td>\n",
              "      <td>61</td>\n",
              "      <td>weekly</td>\n",
              "      <td>0</td>\n",
              "      <td>3180</td>\n",
              "      <td>0</td>\n",
              "      <td>6</td>\n",
              "      <td>3</td>\n",
              "      <td>2</td>\n",
              "      <td>7</td>\n",
              "      <td>1</td>\n",
              "      <td>600</td>\n",
              "      <td>30150</td>\n",
              "      <td>0.738510</td>\n",
              "      <td>0.881027</td>\n",
              "      <td>0.713423</td>\n",
              "      <td>0.826402</td>\n",
              "      <td>0.730720</td>\n",
              "      <td>0.630720</td>\n",
              "      <td>9</td>\n",
              "      <td>0</td>\n",
              "    </tr>\n",
              "    <tr>\n",
              "      <th>2</th>\n",
              "      <td>6934997</td>\n",
              "      <td>23</td>\n",
              "      <td>weekly</td>\n",
              "      <td>0</td>\n",
              "      <td>1540</td>\n",
              "      <td>6</td>\n",
              "      <td>0</td>\n",
              "      <td>0</td>\n",
              "      <td>7</td>\n",
              "      <td>1</td>\n",
              "      <td>1</td>\n",
              "      <td>450</td>\n",
              "      <td>34550</td>\n",
              "      <td>0.642993</td>\n",
              "      <td>0.766554</td>\n",
              "      <td>0.595018</td>\n",
              "      <td>0.762284</td>\n",
              "      <td>0.531712</td>\n",
              "      <td>0.531712</td>\n",
              "      <td>7</td>\n",
              "      <td>0</td>\n",
              "    </tr>\n",
              "    <tr>\n",
              "      <th>3</th>\n",
              "      <td>5682812</td>\n",
              "      <td>40</td>\n",
              "      <td>bi-weekly</td>\n",
              "      <td>0</td>\n",
              "      <td>5230</td>\n",
              "      <td>0</td>\n",
              "      <td>6</td>\n",
              "      <td>1</td>\n",
              "      <td>2</td>\n",
              "      <td>7</td>\n",
              "      <td>1</td>\n",
              "      <td>700</td>\n",
              "      <td>42150</td>\n",
              "      <td>0.665224</td>\n",
              "      <td>0.960832</td>\n",
              "      <td>0.767828</td>\n",
              "      <td>0.778831</td>\n",
              "      <td>0.792552</td>\n",
              "      <td>0.592552</td>\n",
              "      <td>8</td>\n",
              "      <td>1</td>\n",
              "    </tr>\n",
              "    <tr>\n",
              "      <th>4</th>\n",
              "      <td>5335819</td>\n",
              "      <td>33</td>\n",
              "      <td>semi-monthly</td>\n",
              "      <td>0</td>\n",
              "      <td>3590</td>\n",
              "      <td>0</td>\n",
              "      <td>5</td>\n",
              "      <td>2</td>\n",
              "      <td>2</td>\n",
              "      <td>8</td>\n",
              "      <td>1</td>\n",
              "      <td>1100</td>\n",
              "      <td>53850</td>\n",
              "      <td>0.617361</td>\n",
              "      <td>0.857560</td>\n",
              "      <td>0.613487</td>\n",
              "      <td>0.665523</td>\n",
              "      <td>0.744634</td>\n",
              "      <td>0.744634</td>\n",
              "      <td>12</td>\n",
              "      <td>0</td>\n",
              "    </tr>\n",
              "    <tr>\n",
              "      <th>5</th>\n",
              "      <td>8492423</td>\n",
              "      <td>21</td>\n",
              "      <td>weekly</td>\n",
              "      <td>0</td>\n",
              "      <td>2303</td>\n",
              "      <td>0</td>\n",
              "      <td>5</td>\n",
              "      <td>8</td>\n",
              "      <td>2</td>\n",
              "      <td>7</td>\n",
              "      <td>1</td>\n",
              "      <td>600</td>\n",
              "      <td>74850</td>\n",
              "      <td>0.677109</td>\n",
              "      <td>0.758765</td>\n",
              "      <td>0.495609</td>\n",
              "      <td>0.664762</td>\n",
              "      <td>0.592556</td>\n",
              "      <td>0.492556</td>\n",
              "      <td>6</td>\n",
              "      <td>1</td>\n",
              "    </tr>\n",
              "    <tr>\n",
              "      <th>6</th>\n",
              "      <td>7948313</td>\n",
              "      <td>26</td>\n",
              "      <td>bi-weekly</td>\n",
              "      <td>0</td>\n",
              "      <td>2795</td>\n",
              "      <td>0</td>\n",
              "      <td>4</td>\n",
              "      <td>4</td>\n",
              "      <td>1</td>\n",
              "      <td>6</td>\n",
              "      <td>1</td>\n",
              "      <td>800</td>\n",
              "      <td>50800</td>\n",
              "      <td>0.738055</td>\n",
              "      <td>0.873204</td>\n",
              "      <td>0.666437</td>\n",
              "      <td>0.700392</td>\n",
              "      <td>0.584130</td>\n",
              "      <td>0.684130</td>\n",
              "      <td>14</td>\n",
              "      <td>1</td>\n",
              "    </tr>\n",
              "    <tr>\n",
              "      <th>7</th>\n",
              "      <td>4297036</td>\n",
              "      <td>43</td>\n",
              "      <td>bi-weekly</td>\n",
              "      <td>0</td>\n",
              "      <td>5000</td>\n",
              "      <td>0</td>\n",
              "      <td>2</td>\n",
              "      <td>1</td>\n",
              "      <td>1</td>\n",
              "      <td>2</td>\n",
              "      <td>1</td>\n",
              "      <td>1100</td>\n",
              "      <td>69100</td>\n",
              "      <td>0.798303</td>\n",
              "      <td>0.841747</td>\n",
              "      <td>0.401971</td>\n",
              "      <td>0.568787</td>\n",
              "      <td>0.525905</td>\n",
              "      <td>0.725905</td>\n",
              "      <td>5</td>\n",
              "      <td>1</td>\n",
              "    </tr>\n",
              "    <tr>\n",
              "      <th>8</th>\n",
              "      <td>6493191</td>\n",
              "      <td>32</td>\n",
              "      <td>semi-monthly</td>\n",
              "      <td>0</td>\n",
              "      <td>5260</td>\n",
              "      <td>3</td>\n",
              "      <td>0</td>\n",
              "      <td>3</td>\n",
              "      <td>1</td>\n",
              "      <td>4</td>\n",
              "      <td>1</td>\n",
              "      <td>1150</td>\n",
              "      <td>64050</td>\n",
              "      <td>0.652429</td>\n",
              "      <td>0.802433</td>\n",
              "      <td>0.593816</td>\n",
              "      <td>0.560389</td>\n",
              "      <td>0.569459</td>\n",
              "      <td>0.369459</td>\n",
              "      <td>3</td>\n",
              "      <td>1</td>\n",
              "    </tr>\n",
              "    <tr>\n",
              "      <th>9</th>\n",
              "      <td>8908605</td>\n",
              "      <td>51</td>\n",
              "      <td>bi-weekly</td>\n",
              "      <td>1</td>\n",
              "      <td>3055</td>\n",
              "      <td>0</td>\n",
              "      <td>6</td>\n",
              "      <td>11</td>\n",
              "      <td>4</td>\n",
              "      <td>2</td>\n",
              "      <td>1</td>\n",
              "      <td>600</td>\n",
              "      <td>59750</td>\n",
              "      <td>0.624666</td>\n",
              "      <td>0.968565</td>\n",
              "      <td>0.509919</td>\n",
              "      <td>0.749624</td>\n",
              "      <td>0.758607</td>\n",
              "      <td>0.758607</td>\n",
              "      <td>5</td>\n",
              "      <td>1</td>\n",
              "    </tr>\n",
              "  </tbody>\n",
              "</table>\n",
              "</div>"
            ],
            "text/plain": [
              "   entry_id  age  ... inquiries_last_month  e_signed\n",
              "0   7629673   40  ...                   10         1\n",
              "1   3560428   61  ...                    9         0\n",
              "2   6934997   23  ...                    7         0\n",
              "3   5682812   40  ...                    8         1\n",
              "4   5335819   33  ...                   12         0\n",
              "5   8492423   21  ...                    6         1\n",
              "6   7948313   26  ...                   14         1\n",
              "7   4297036   43  ...                    5         1\n",
              "8   6493191   32  ...                    3         1\n",
              "9   8908605   51  ...                    5         1\n",
              "\n",
              "[10 rows x 21 columns]"
            ]
          },
          "metadata": {
            "tags": []
          },
          "execution_count": 4
        }
      ]
    },
    {
      "cell_type": "code",
      "metadata": {
        "id": "-UE8lxRdPdHa",
        "colab_type": "code",
        "outputId": "0d2836b1-7923-4d79-fc6b-a1c4d5f092a5",
        "colab": {
          "base_uri": "https://localhost:8080/",
          "height": 136
        }
      },
      "source": [
        "dataset.columns"
      ],
      "execution_count": 5,
      "outputs": [
        {
          "output_type": "execute_result",
          "data": {
            "text/plain": [
              "Index(['entry_id', 'age', 'pay_schedule', 'home_owner', 'income',\n",
              "       'months_employed', 'years_employed', 'current_address_year',\n",
              "       'personal_account_m', 'personal_account_y', 'has_debt',\n",
              "       'amount_requested', 'risk_score', 'risk_score_2', 'risk_score_3',\n",
              "       'risk_score_4', 'risk_score_5', 'ext_quality_score',\n",
              "       'ext_quality_score_2', 'inquiries_last_month', 'e_signed'],\n",
              "      dtype='object')"
            ]
          },
          "metadata": {
            "tags": []
          },
          "execution_count": 5
        }
      ]
    },
    {
      "cell_type": "code",
      "metadata": {
        "id": "iI1Ntf-ng4l2",
        "colab_type": "code",
        "outputId": "be4fcdb1-66b0-471b-b3ea-a3a3567e19a2",
        "colab": {
          "base_uri": "https://localhost:8080/",
          "height": 317
        }
      },
      "source": [
        "dataset.describe()"
      ],
      "execution_count": 6,
      "outputs": [
        {
          "output_type": "execute_result",
          "data": {
            "text/html": [
              "<div>\n",
              "<style scoped>\n",
              "    .dataframe tbody tr th:only-of-type {\n",
              "        vertical-align: middle;\n",
              "    }\n",
              "\n",
              "    .dataframe tbody tr th {\n",
              "        vertical-align: top;\n",
              "    }\n",
              "\n",
              "    .dataframe thead th {\n",
              "        text-align: right;\n",
              "    }\n",
              "</style>\n",
              "<table border=\"1\" class=\"dataframe\">\n",
              "  <thead>\n",
              "    <tr style=\"text-align: right;\">\n",
              "      <th></th>\n",
              "      <th>entry_id</th>\n",
              "      <th>age</th>\n",
              "      <th>home_owner</th>\n",
              "      <th>income</th>\n",
              "      <th>months_employed</th>\n",
              "      <th>years_employed</th>\n",
              "      <th>current_address_year</th>\n",
              "      <th>personal_account_m</th>\n",
              "      <th>personal_account_y</th>\n",
              "      <th>has_debt</th>\n",
              "      <th>amount_requested</th>\n",
              "      <th>risk_score</th>\n",
              "      <th>risk_score_2</th>\n",
              "      <th>risk_score_3</th>\n",
              "      <th>risk_score_4</th>\n",
              "      <th>risk_score_5</th>\n",
              "      <th>ext_quality_score</th>\n",
              "      <th>ext_quality_score_2</th>\n",
              "      <th>inquiries_last_month</th>\n",
              "      <th>e_signed</th>\n",
              "    </tr>\n",
              "  </thead>\n",
              "  <tbody>\n",
              "    <tr>\n",
              "      <th>count</th>\n",
              "      <td>1.790800e+04</td>\n",
              "      <td>17908.000000</td>\n",
              "      <td>17908.000000</td>\n",
              "      <td>17908.000000</td>\n",
              "      <td>17908.000000</td>\n",
              "      <td>17908.000000</td>\n",
              "      <td>17908.000000</td>\n",
              "      <td>17908.000000</td>\n",
              "      <td>17908.000000</td>\n",
              "      <td>17908.000000</td>\n",
              "      <td>17908.000000</td>\n",
              "      <td>17908.000000</td>\n",
              "      <td>17908.000000</td>\n",
              "      <td>17908.000000</td>\n",
              "      <td>17908.000000</td>\n",
              "      <td>17908.000000</td>\n",
              "      <td>17908.000000</td>\n",
              "      <td>17908.000000</td>\n",
              "      <td>17908.000000</td>\n",
              "      <td>17908.000000</td>\n",
              "    </tr>\n",
              "    <tr>\n",
              "      <th>mean</th>\n",
              "      <td>5.596978e+06</td>\n",
              "      <td>43.015412</td>\n",
              "      <td>0.425173</td>\n",
              "      <td>3657.214653</td>\n",
              "      <td>1.186006</td>\n",
              "      <td>3.526860</td>\n",
              "      <td>3.584711</td>\n",
              "      <td>3.427183</td>\n",
              "      <td>3.503350</td>\n",
              "      <td>0.795399</td>\n",
              "      <td>950.446449</td>\n",
              "      <td>61086.302211</td>\n",
              "      <td>0.690878</td>\n",
              "      <td>0.878276</td>\n",
              "      <td>0.583155</td>\n",
              "      <td>0.718252</td>\n",
              "      <td>0.623112</td>\n",
              "      <td>0.622068</td>\n",
              "      <td>6.457226</td>\n",
              "      <td>0.538251</td>\n",
              "    </tr>\n",
              "    <tr>\n",
              "      <th>std</th>\n",
              "      <td>2.562473e+06</td>\n",
              "      <td>11.873107</td>\n",
              "      <td>0.494383</td>\n",
              "      <td>1504.890063</td>\n",
              "      <td>2.400897</td>\n",
              "      <td>2.259732</td>\n",
              "      <td>2.751937</td>\n",
              "      <td>2.216440</td>\n",
              "      <td>1.955568</td>\n",
              "      <td>0.403421</td>\n",
              "      <td>698.543683</td>\n",
              "      <td>15394.255020</td>\n",
              "      <td>0.090470</td>\n",
              "      <td>0.054563</td>\n",
              "      <td>0.125061</td>\n",
              "      <td>0.120697</td>\n",
              "      <td>0.139729</td>\n",
              "      <td>0.139898</td>\n",
              "      <td>3.673093</td>\n",
              "      <td>0.498549</td>\n",
              "    </tr>\n",
              "    <tr>\n",
              "      <th>min</th>\n",
              "      <td>1.111398e+06</td>\n",
              "      <td>18.000000</td>\n",
              "      <td>0.000000</td>\n",
              "      <td>905.000000</td>\n",
              "      <td>0.000000</td>\n",
              "      <td>0.000000</td>\n",
              "      <td>0.000000</td>\n",
              "      <td>0.000000</td>\n",
              "      <td>0.000000</td>\n",
              "      <td>0.000000</td>\n",
              "      <td>350.000000</td>\n",
              "      <td>2100.000000</td>\n",
              "      <td>0.023258</td>\n",
              "      <td>0.451371</td>\n",
              "      <td>0.016724</td>\n",
              "      <td>0.153367</td>\n",
              "      <td>0.010184</td>\n",
              "      <td>0.006622</td>\n",
              "      <td>1.000000</td>\n",
              "      <td>0.000000</td>\n",
              "    </tr>\n",
              "    <tr>\n",
              "      <th>25%</th>\n",
              "      <td>3.378999e+06</td>\n",
              "      <td>34.000000</td>\n",
              "      <td>0.000000</td>\n",
              "      <td>2580.000000</td>\n",
              "      <td>0.000000</td>\n",
              "      <td>2.000000</td>\n",
              "      <td>2.000000</td>\n",
              "      <td>2.000000</td>\n",
              "      <td>2.000000</td>\n",
              "      <td>1.000000</td>\n",
              "      <td>600.000000</td>\n",
              "      <td>49350.000000</td>\n",
              "      <td>0.640993</td>\n",
              "      <td>0.850882</td>\n",
              "      <td>0.500208</td>\n",
              "      <td>0.633708</td>\n",
              "      <td>0.521735</td>\n",
              "      <td>0.519677</td>\n",
              "      <td>4.000000</td>\n",
              "      <td>0.000000</td>\n",
              "    </tr>\n",
              "    <tr>\n",
              "      <th>50%</th>\n",
              "      <td>5.608376e+06</td>\n",
              "      <td>42.000000</td>\n",
              "      <td>0.000000</td>\n",
              "      <td>3260.000000</td>\n",
              "      <td>0.000000</td>\n",
              "      <td>3.000000</td>\n",
              "      <td>3.000000</td>\n",
              "      <td>2.000000</td>\n",
              "      <td>3.000000</td>\n",
              "      <td>1.000000</td>\n",
              "      <td>700.000000</td>\n",
              "      <td>61200.000000</td>\n",
              "      <td>0.699561</td>\n",
              "      <td>0.881004</td>\n",
              "      <td>0.588208</td>\n",
              "      <td>0.725113</td>\n",
              "      <td>0.625944</td>\n",
              "      <td>0.622974</td>\n",
              "      <td>6.000000</td>\n",
              "      <td>1.000000</td>\n",
              "    </tr>\n",
              "    <tr>\n",
              "      <th>75%</th>\n",
              "      <td>7.805624e+06</td>\n",
              "      <td>51.000000</td>\n",
              "      <td>1.000000</td>\n",
              "      <td>4670.000000</td>\n",
              "      <td>1.000000</td>\n",
              "      <td>5.000000</td>\n",
              "      <td>5.000000</td>\n",
              "      <td>5.000000</td>\n",
              "      <td>4.000000</td>\n",
              "      <td>1.000000</td>\n",
              "      <td>1100.000000</td>\n",
              "      <td>72750.000000</td>\n",
              "      <td>0.752887</td>\n",
              "      <td>0.912608</td>\n",
              "      <td>0.672395</td>\n",
              "      <td>0.806681</td>\n",
              "      <td>0.729841</td>\n",
              "      <td>0.728940</td>\n",
              "      <td>8.000000</td>\n",
              "      <td>1.000000</td>\n",
              "    </tr>\n",
              "    <tr>\n",
              "      <th>max</th>\n",
              "      <td>9.999874e+06</td>\n",
              "      <td>96.000000</td>\n",
              "      <td>1.000000</td>\n",
              "      <td>9985.000000</td>\n",
              "      <td>11.000000</td>\n",
              "      <td>16.000000</td>\n",
              "      <td>12.000000</td>\n",
              "      <td>11.000000</td>\n",
              "      <td>15.000000</td>\n",
              "      <td>1.000000</td>\n",
              "      <td>10200.000000</td>\n",
              "      <td>99750.000000</td>\n",
              "      <td>0.999997</td>\n",
              "      <td>0.999024</td>\n",
              "      <td>0.978932</td>\n",
              "      <td>0.996260</td>\n",
              "      <td>0.970249</td>\n",
              "      <td>0.966953</td>\n",
              "      <td>30.000000</td>\n",
              "      <td>1.000000</td>\n",
              "    </tr>\n",
              "  </tbody>\n",
              "</table>\n",
              "</div>"
            ],
            "text/plain": [
              "           entry_id           age  ...  inquiries_last_month      e_signed\n",
              "count  1.790800e+04  17908.000000  ...          17908.000000  17908.000000\n",
              "mean   5.596978e+06     43.015412  ...              6.457226      0.538251\n",
              "std    2.562473e+06     11.873107  ...              3.673093      0.498549\n",
              "min    1.111398e+06     18.000000  ...              1.000000      0.000000\n",
              "25%    3.378999e+06     34.000000  ...              4.000000      0.000000\n",
              "50%    5.608376e+06     42.000000  ...              6.000000      1.000000\n",
              "75%    7.805624e+06     51.000000  ...              8.000000      1.000000\n",
              "max    9.999874e+06     96.000000  ...             30.000000      1.000000\n",
              "\n",
              "[8 rows x 20 columns]"
            ]
          },
          "metadata": {
            "tags": []
          },
          "execution_count": 6
        }
      ]
    },
    {
      "cell_type": "code",
      "metadata": {
        "id": "V58LvCFng97Z",
        "colab_type": "code",
        "outputId": "f5363ff8-b2e7-492d-99fd-aa706fa58621",
        "colab": {
          "base_uri": "https://localhost:8080/",
          "height": 391
        }
      },
      "source": [
        "#Cleaning the data\n",
        "dataset.isna().any()"
      ],
      "execution_count": 7,
      "outputs": [
        {
          "output_type": "execute_result",
          "data": {
            "text/plain": [
              "entry_id                False\n",
              "age                     False\n",
              "pay_schedule            False\n",
              "home_owner              False\n",
              "income                  False\n",
              "months_employed         False\n",
              "years_employed          False\n",
              "current_address_year    False\n",
              "personal_account_m      False\n",
              "personal_account_y      False\n",
              "has_debt                False\n",
              "amount_requested        False\n",
              "risk_score              False\n",
              "risk_score_2            False\n",
              "risk_score_3            False\n",
              "risk_score_4            False\n",
              "risk_score_5            False\n",
              "ext_quality_score       False\n",
              "ext_quality_score_2     False\n",
              "inquiries_last_month    False\n",
              "e_signed                False\n",
              "dtype: bool"
            ]
          },
          "metadata": {
            "tags": []
          },
          "execution_count": 7
        }
      ]
    },
    {
      "cell_type": "code",
      "metadata": {
        "id": "0JhnsLQthlWw",
        "colab_type": "code",
        "outputId": "9f7a406e-3cd9-457b-f457-02c01c54bc00",
        "colab": {
          "base_uri": "https://localhost:8080/",
          "height": 841
        }
      },
      "source": [
        "#Histograms\n",
        "dataset2 = dataset.drop(columns = ['entry_id', 'pay_schedule', 'e_signed'])\n",
        "\n",
        "fig = plt.figure(figsize = (15,12))\n",
        "plt.suptitle('Histograms of Numerical Columns', fontsize = 20)\n",
        "for i in range(dataset2.shape[1]):\n",
        "  plt.subplot(6, 3, i + 1)\n",
        "  f = plt.gca()\n",
        "  f.set_title(dataset2.columns.values[i])\n",
        "\n",
        "  vals = np.size(dataset2.iloc[:, i].unique())\n",
        "  if vals >= 100:\n",
        "    vals = 100\n",
        "  \n",
        "  plt.hist(dataset2.iloc[:, i], bins = vals, color = '#3F5D7D')\n",
        "plt.tight_layout(rect=[0, 0.03, 1, 0.95])"
      ],
      "execution_count": 8,
      "outputs": [
        {
          "output_type": "display_data",
          "data": {
            "image/png": "[encoded data removed]",
            "text/plain": [
              "<Figure size 1080x864 with 18 Axes>"
            ]
          },
          "metadata": {
            "tags": [],
            "needs_background": "light"
          }
        }
      ]
    },
    {
      "cell_type": "code",
      "metadata": {
        "id": "G7e95MxckR2t",
        "colab_type": "code",
        "outputId": "ec22217a-6913-4185-add4-45400648b272",
        "colab": {
          "base_uri": "https://localhost:8080/",
          "height": 713
        }
      },
      "source": [
        "# Correlation Plot\n",
        "dataset2.corrwith(dataset.e_signed).plot.bar(\n",
        "    figsize = (15,10),\n",
        "    title = \"Correlation with e-signed\",\n",
        "    fontsize = 10,\n",
        "    rot = 60,\n",
        "    grid = True\n",
        ")"
      ],
      "execution_count": 9,
      "outputs": [
        {
          "output_type": "execute_result",
          "data": {
            "text/plain": [
              "<matplotlib.axes._subplots.AxesSubplot at 0x7f2bb1b01e10>"
            ]
          },
          "metadata": {
            "tags": []
          },
          "execution_count": 9
        },
        {
          "output_type": "display_data",
          "data": {
            "image/png": "[encoded data removed]",
            "text/plain": [
              "<Figure size 1080x720 with 1 Axes>"
            ]
          },
          "metadata": {
            "tags": [],
            "needs_background": "light"
          }
        }
      ]
    },
    {
      "cell_type": "code",
      "metadata": {
        "id": "x0h1M1RnJvp4",
        "colab_type": "code",
        "outputId": "962206f2-c6ac-41da-d8c0-2570d015961d",
        "colab": {
          "base_uri": "https://localhost:8080/",
          "height": 666
        }
      },
      "source": [
        "# Correlation Matrix\n",
        "sns.set(style = 'white')\n",
        "\n",
        "corr = dataset2.corr()\n",
        "\n",
        "mask = np.zeros_like(corr, dtype = np.bool)\n",
        "mask[np.triu_indices_from(mask)] = True\n",
        "\n",
        "f, ax = plt.subplots(figsize = (15, 9))\n",
        "\n",
        "cmap = sns.diverging_palette(220, 10 , as_cmap = True)\n",
        "sns.heatmap(corr, mask = mask, cmap = cmap, vmax = .3, center = 0,\n",
        "            square = True, linewidths = .5, cbar_kws = {\"shrink\": .5})"
      ],
      "execution_count": 10,
      "outputs": [
        {
          "output_type": "execute_result",
          "data": {
            "text/plain": [
              "<matplotlib.axes._subplots.AxesSubplot at 0x7f2bad497ac8>"
            ]
          },
          "metadata": {
            "tags": []
          },
          "execution_count": 10
        },
        {
          "output_type": "display_data",
          "data": {
            "image/png": "[encoded data removed]",
            "text/plain": [
              "<Figure size 1080x648 with 2 Axes>"
            ]
          },
          "metadata": {
            "tags": []
          }
        }
      ]
    },
    {
      "cell_type": "code",
      "metadata": {
        "id": "cFNFdWTyiOTO",
        "colab_type": "code",
        "colab": {}
      },
      "source": [
        "import random \n",
        "import time\n",
        "random.seed(100)"
      ],
      "execution_count": 0,
      "outputs": []
    },
    {
      "cell_type": "code",
      "metadata": {
        "id": "SCrm8PTikLwp",
        "colab_type": "code",
        "colab": {}
      },
      "source": [
        "# Removing the column that appears to be faulty\n",
        "dataset = dataset.drop(columns = ['months_employed'])"
      ],
      "execution_count": 0,
      "outputs": []
    },
    {
      "cell_type": "code",
      "metadata": {
        "id": "IWqtFOPHkd9K",
        "colab_type": "code",
        "colab": {}
      },
      "source": [
        "# Combining personal_account_m column with personal_account_y and convert he resulted column into months\n",
        "dataset['personal_account_months'] = (dataset.personal_account_m + (dataset.personal_account_y * 12))"
      ],
      "execution_count": 0,
      "outputs": []
    },
    {
      "cell_type": "code",
      "metadata": {
        "id": "aPN30nYClRsq",
        "colab_type": "code",
        "outputId": "d0e8c62d-72e7-4ab8-8d98-c730d99c3231",
        "colab": {
          "base_uri": "https://localhost:8080/",
          "height": 419
        }
      },
      "source": [
        "dataset[['personal_account_m', 'personal_account_y', 'personal_account_months']]"
      ],
      "execution_count": 14,
      "outputs": [
        {
          "output_type": "execute_result",
          "data": {
            "text/html": [
              "<div>\n",
              "<style scoped>\n",
              "    .dataframe tbody tr th:only-of-type {\n",
              "        vertical-align: middle;\n",
              "    }\n",
              "\n",
              "    .dataframe tbody tr th {\n",
              "        vertical-align: top;\n",
              "    }\n",
              "\n",
              "    .dataframe thead th {\n",
              "        text-align: right;\n",
              "    }\n",
              "</style>\n",
              "<table border=\"1\" class=\"dataframe\">\n",
              "  <thead>\n",
              "    <tr style=\"text-align: right;\">\n",
              "      <th></th>\n",
              "      <th>personal_account_m</th>\n",
              "      <th>personal_account_y</th>\n",
              "      <th>personal_account_months</th>\n",
              "    </tr>\n",
              "  </thead>\n",
              "  <tbody>\n",
              "    <tr>\n",
              "      <th>0</th>\n",
              "      <td>6</td>\n",
              "      <td>2</td>\n",
              "      <td>30</td>\n",
              "    </tr>\n",
              "    <tr>\n",
              "      <th>1</th>\n",
              "      <td>2</td>\n",
              "      <td>7</td>\n",
              "      <td>86</td>\n",
              "    </tr>\n",
              "    <tr>\n",
              "      <th>2</th>\n",
              "      <td>7</td>\n",
              "      <td>1</td>\n",
              "      <td>19</td>\n",
              "    </tr>\n",
              "    <tr>\n",
              "      <th>3</th>\n",
              "      <td>2</td>\n",
              "      <td>7</td>\n",
              "      <td>86</td>\n",
              "    </tr>\n",
              "    <tr>\n",
              "      <th>4</th>\n",
              "      <td>2</td>\n",
              "      <td>8</td>\n",
              "      <td>98</td>\n",
              "    </tr>\n",
              "    <tr>\n",
              "      <th>...</th>\n",
              "      <td>...</td>\n",
              "      <td>...</td>\n",
              "      <td>...</td>\n",
              "    </tr>\n",
              "    <tr>\n",
              "      <th>17903</th>\n",
              "      <td>2</td>\n",
              "      <td>6</td>\n",
              "      <td>74</td>\n",
              "    </tr>\n",
              "    <tr>\n",
              "      <th>17904</th>\n",
              "      <td>3</td>\n",
              "      <td>3</td>\n",
              "      <td>39</td>\n",
              "    </tr>\n",
              "    <tr>\n",
              "      <th>17905</th>\n",
              "      <td>1</td>\n",
              "      <td>8</td>\n",
              "      <td>97</td>\n",
              "    </tr>\n",
              "    <tr>\n",
              "      <th>17906</th>\n",
              "      <td>6</td>\n",
              "      <td>1</td>\n",
              "      <td>18</td>\n",
              "    </tr>\n",
              "    <tr>\n",
              "      <th>17907</th>\n",
              "      <td>4</td>\n",
              "      <td>1</td>\n",
              "      <td>16</td>\n",
              "    </tr>\n",
              "  </tbody>\n",
              "</table>\n",
              "<p>17908 rows × 3 columns</p>\n",
              "</div>"
            ],
            "text/plain": [
              "       personal_account_m  personal_account_y  personal_account_months\n",
              "0                       6                   2                       30\n",
              "1                       2                   7                       86\n",
              "2                       7                   1                       19\n",
              "3                       2                   7                       86\n",
              "4                       2                   8                       98\n",
              "...                   ...                 ...                      ...\n",
              "17903                   2                   6                       74\n",
              "17904                   3                   3                       39\n",
              "17905                   1                   8                       97\n",
              "17906                   6                   1                       18\n",
              "17907                   4                   1                       16\n",
              "\n",
              "[17908 rows x 3 columns]"
            ]
          },
          "metadata": {
            "tags": []
          },
          "execution_count": 14
        }
      ]
    },
    {
      "cell_type": "code",
      "metadata": {
        "id": "DhYX6YDcldhS",
        "colab_type": "code",
        "colab": {}
      },
      "source": [
        "dataset = dataset.drop(columns = ['personal_account_m', 'personal_account_y'])"
      ],
      "execution_count": 0,
      "outputs": []
    },
    {
      "cell_type": "code",
      "metadata": {
        "id": "Z5n89PCfmO54",
        "colab_type": "code",
        "outputId": "21215ae7-dae3-444c-d545-64f279b54399",
        "colab": {
          "base_uri": "https://localhost:8080/",
          "height": 136
        }
      },
      "source": [
        "dataset.columns"
      ],
      "execution_count": 16,
      "outputs": [
        {
          "output_type": "execute_result",
          "data": {
            "text/plain": [
              "Index(['entry_id', 'age', 'pay_schedule', 'home_owner', 'income',\n",
              "       'years_employed', 'current_address_year', 'has_debt',\n",
              "       'amount_requested', 'risk_score', 'risk_score_2', 'risk_score_3',\n",
              "       'risk_score_4', 'risk_score_5', 'ext_quality_score',\n",
              "       'ext_quality_score_2', 'inquiries_last_month', 'e_signed',\n",
              "       'personal_account_months'],\n",
              "      dtype='object')"
            ]
          },
          "metadata": {
            "tags": []
          },
          "execution_count": 16
        }
      ]
    },
    {
      "cell_type": "code",
      "metadata": {
        "id": "q65uvKpRly-K",
        "colab_type": "code",
        "colab": {}
      },
      "source": [
        "# One Hot encoding\n",
        "dataset = pd.get_dummies(dataset)"
      ],
      "execution_count": 0,
      "outputs": []
    },
    {
      "cell_type": "code",
      "metadata": {
        "id": "7Nhf5MUMmI46",
        "colab_type": "code",
        "outputId": "7a5eeff5-e6df-4739-b4f0-f857380ab81d",
        "colab": {
          "base_uri": "https://localhost:8080/",
          "height": 153
        }
      },
      "source": [
        "dataset.columns"
      ],
      "execution_count": 18,
      "outputs": [
        {
          "output_type": "execute_result",
          "data": {
            "text/plain": [
              "Index(['entry_id', 'age', 'home_owner', 'income', 'years_employed',\n",
              "       'current_address_year', 'has_debt', 'amount_requested', 'risk_score',\n",
              "       'risk_score_2', 'risk_score_3', 'risk_score_4', 'risk_score_5',\n",
              "       'ext_quality_score', 'ext_quality_score_2', 'inquiries_last_month',\n",
              "       'e_signed', 'personal_account_months', 'pay_schedule_bi-weekly',\n",
              "       'pay_schedule_monthly', 'pay_schedule_semi-monthly',\n",
              "       'pay_schedule_weekly'],\n",
              "      dtype='object')"
            ]
          },
          "metadata": {
            "tags": []
          },
          "execution_count": 18
        }
      ]
    },
    {
      "cell_type": "code",
      "metadata": {
        "id": "E5h5DL9gmLPy",
        "colab_type": "code",
        "colab": {}
      },
      "source": [
        "dataset = dataset.drop(columns = ['pay_schedule_semi-monthly'])"
      ],
      "execution_count": 0,
      "outputs": []
    },
    {
      "cell_type": "code",
      "metadata": {
        "id": "1TzGUVKnm8BO",
        "colab_type": "code",
        "colab": {}
      },
      "source": [
        "# Removing extra columns\n",
        "response = dataset['e_signed'] \n",
        "users = dataset['entry_id']\n",
        "dataset = dataset.drop(columns = ['e_signed', 'entry_id'])"
      ],
      "execution_count": 0,
      "outputs": []
    },
    {
      "cell_type": "code",
      "metadata": {
        "id": "xedIG17_osAT",
        "colab_type": "code",
        "colab": {}
      },
      "source": [
        "# Splitting into Train and Test Set\n",
        "from sklearn.model_selection import train_test_split\n",
        "X_train, X_test, y_train, y_test = train_test_split(dataset,\n",
        "                                                    response,\n",
        "                                                    test_size = 0.2,\n",
        "                                                    random_state = 0)"
      ],
      "execution_count": 0,
      "outputs": []
    },
    {
      "cell_type": "code",
      "metadata": {
        "id": "85Bz6-9MrH6M",
        "colab_type": "code",
        "colab": {}
      },
      "source": [
        "# Feature Scaling\n",
        "from sklearn.preprocessing import StandardScaler\n",
        "sc_X = StandardScaler()\n",
        "X_train2 = pd.DataFrame(sc_X.fit_transform(X_train))\n",
        "X_test2 = pd.DataFrame(sc_X.transform(X_test))\n",
        "X_train2.columns = X_train.columns.values\n",
        "X_test2.columns = X_test.columns.values\n",
        "X_train2.index = X_train.index.values\n",
        "X_test2.index = X_test.index.values\n",
        "X_train = X_train2\n",
        "X_test = X_test2"
      ],
      "execution_count": 0,
      "outputs": []
    },
    {
      "cell_type": "markdown",
      "metadata": {
        "id": "VGFjdLS20DPX",
        "colab_type": "text"
      },
      "source": [
        "# Model Building"
      ]
    },
    {
      "cell_type": "markdown",
      "metadata": {
        "id": "2RELe4nE0IwQ",
        "colab_type": "text"
      },
      "source": [
        "## Comparing Models"
      ]
    },
    {
      "cell_type": "markdown",
      "metadata": {
        "id": "-mksJBSs0OCN",
        "colab_type": "text"
      },
      "source": [
        "### Logistic Regression"
      ]
    },
    {
      "cell_type": "code",
      "metadata": {
        "id": "jVVWcvwX0QL_",
        "colab_type": "code",
        "outputId": "e70244fa-43f7-425b-b977-57843f2c2f56",
        "colab": {
          "base_uri": "https://localhost:8080/",
          "height": 0
        }
      },
      "source": [
        "from sklearn.linear_model import LogisticRegression\n",
        "classifier = LogisticRegression(random_state = 0,\n",
        "                                penalty = 'l2')\n",
        "classifier.fit(X_train, y_train)"
      ],
      "execution_count": 23,
      "outputs": [
        {
          "output_type": "execute_result",
          "data": {
            "text/plain": [
              "LogisticRegression(C=1.0, class_weight=None, dual=False, fit_intercept=True,\n",
              "                   intercept_scaling=1, l1_ratio=None, max_iter=100,\n",
              "                   multi_class='auto', n_jobs=None, penalty='l2',\n",
              "                   random_state=0, solver='lbfgs', tol=0.0001, verbose=0,\n",
              "                   warm_start=False)"
            ]
          },
          "metadata": {
            "tags": []
          },
          "execution_count": 23
        }
      ]
    },
    {
      "cell_type": "code",
      "metadata": {
        "id": "03FpMvCU0t8G",
        "colab_type": "code",
        "colab": {}
      },
      "source": [
        "y_pred = classifier.predict(X_test)"
      ],
      "execution_count": 0,
      "outputs": []
    },
    {
      "cell_type": "code",
      "metadata": {
        "id": "apR__Pb209_N",
        "colab_type": "code",
        "colab": {}
      },
      "source": [
        "from sklearn.metrics import confusion_matrix, accuracy_score, f1_score, precision_score, recall_score"
      ],
      "execution_count": 0,
      "outputs": []
    },
    {
      "cell_type": "code",
      "metadata": {
        "id": "Z9W56Os-1Ur1",
        "colab_type": "code",
        "colab": {}
      },
      "source": [
        "acc = accuracy_score(y_test, y_pred)\n",
        "prec = precision_score(y_test, y_pred)\n",
        "rec = recall_score(y_test, y_pred)\n",
        "f1 = f1_score(y_test, y_pred)"
      ],
      "execution_count": 0,
      "outputs": []
    },
    {
      "cell_type": "code",
      "metadata": {
        "id": "MrD6J9cZ1x_t",
        "colab_type": "code",
        "colab": {}
      },
      "source": [
        "results = pd.DataFrame([['Linear Regression (Lasso)', acc, prec, rec, f1]],\n",
        "                       columns = ['Model', 'Accuracy', 'Precision', 'Recall', 'F1 Score'])"
      ],
      "execution_count": 0,
      "outputs": []
    },
    {
      "cell_type": "markdown",
      "metadata": {
        "id": "GfQnxvSy3OLk",
        "colab_type": "text"
      },
      "source": [
        "### SVM (Linear)"
      ]
    },
    {
      "cell_type": "code",
      "metadata": {
        "id": "TxRwBxOc2c2W",
        "colab_type": "code",
        "colab": {}
      },
      "source": [
        "from sklearn.svm import SVC\n",
        "classifier = SVC(random_state = 0, kernel = 'linear')\n",
        "classifier.fit(X_train, y_train)\n",
        "\n",
        "y_pred = classifier.predict(X_test)\n",
        "acc = accuracy_score(y_test, y_pred)\n",
        "prec = precision_score(y_test, y_pred)\n",
        "rec = recall_score(y_test, y_pred)\n",
        "f1 = f1_score(y_test, y_pred)\n",
        "\n",
        "model_results = pd.DataFrame([['SVM (Linear)', acc, prec, rec, f1]],\n",
        "                       columns = ['Model', 'Accuracy', 'Precision', 'Recall', 'F1 Score'])"
      ],
      "execution_count": 0,
      "outputs": []
    },
    {
      "cell_type": "code",
      "metadata": {
        "id": "X2UrAGY6500v",
        "colab_type": "code",
        "colab": {}
      },
      "source": [
        "results = results.append(model_results, ignore_index = True)"
      ],
      "execution_count": 0,
      "outputs": []
    },
    {
      "cell_type": "code",
      "metadata": {
        "id": "LK5WUptv6MWH",
        "colab_type": "code",
        "outputId": "94c09a00-2151-4886-bea3-4b1ad22d3f32",
        "colab": {
          "base_uri": "https://localhost:8080/",
          "height": 111
        }
      },
      "source": [
        "results"
      ],
      "execution_count": 30,
      "outputs": [
        {
          "output_type": "execute_result",
          "data": {
            "text/html": [
              "<div>\n",
              "<style scoped>\n",
              "    .dataframe tbody tr th:only-of-type {\n",
              "        vertical-align: middle;\n",
              "    }\n",
              "\n",
              "    .dataframe tbody tr th {\n",
              "        vertical-align: top;\n",
              "    }\n",
              "\n",
              "    .dataframe thead th {\n",
              "        text-align: right;\n",
              "    }\n",
              "</style>\n",
              "<table border=\"1\" class=\"dataframe\">\n",
              "  <thead>\n",
              "    <tr style=\"text-align: right;\">\n",
              "      <th></th>\n",
              "      <th>Model</th>\n",
              "      <th>Accuracy</th>\n",
              "      <th>Precision</th>\n",
              "      <th>Recall</th>\n",
              "      <th>F1 Score</th>\n",
              "    </tr>\n",
              "  </thead>\n",
              "  <tbody>\n",
              "    <tr>\n",
              "      <th>0</th>\n",
              "      <td>Linear Regression (Lasso)</td>\n",
              "      <td>0.562535</td>\n",
              "      <td>0.576386</td>\n",
              "      <td>0.706432</td>\n",
              "      <td>0.634817</td>\n",
              "    </tr>\n",
              "    <tr>\n",
              "      <th>1</th>\n",
              "      <td>SVM (Linear)</td>\n",
              "      <td>0.568398</td>\n",
              "      <td>0.577769</td>\n",
              "      <td>0.735996</td>\n",
              "      <td>0.647354</td>\n",
              "    </tr>\n",
              "  </tbody>\n",
              "</table>\n",
              "</div>"
            ],
            "text/plain": [
              "                       Model  Accuracy  Precision    Recall  F1 Score\n",
              "0  Linear Regression (Lasso)  0.562535   0.576386  0.706432  0.634817\n",
              "1               SVM (Linear)  0.568398   0.577769  0.735996  0.647354"
            ]
          },
          "metadata": {
            "tags": []
          },
          "execution_count": 30
        }
      ]
    },
    {
      "cell_type": "markdown",
      "metadata": {
        "id": "AqtopyhJ6dnI",
        "colab_type": "text"
      },
      "source": [
        "### SVM (RBF)"
      ]
    },
    {
      "cell_type": "code",
      "metadata": {
        "id": "cD9g3nTq6P3H",
        "colab_type": "code",
        "outputId": "ba4b040f-b14f-4889-9970-fb020850c316",
        "colab": {
          "base_uri": "https://localhost:8080/",
          "height": 142
        }
      },
      "source": [
        "from sklearn.svm import SVC\n",
        "classifier = SVC(random_state = 0, kernel = 'rbf')\n",
        "classifier.fit(X_train, y_train)\n",
        "\n",
        "y_pred = classifier.predict(X_test)\n",
        "acc = accuracy_score(y_test, y_pred)\n",
        "prec = precision_score(y_test, y_pred)\n",
        "rec = recall_score(y_test, y_pred)\n",
        "f1 = f1_score(y_test, y_pred)\n",
        "\n",
        "model_results = pd.DataFrame([['SVM (rbf)', acc, prec, rec, f1]],\n",
        "                       columns = ['Model', 'Accuracy', 'Precision', 'Recall', 'F1 Score'])\n",
        "results = results.append(model_results, ignore_index = True)\n",
        "results"
      ],
      "execution_count": 31,
      "outputs": [
        {
          "output_type": "execute_result",
          "data": {
            "text/html": [
              "<div>\n",
              "<style scoped>\n",
              "    .dataframe tbody tr th:only-of-type {\n",
              "        vertical-align: middle;\n",
              "    }\n",
              "\n",
              "    .dataframe tbody tr th {\n",
              "        vertical-align: top;\n",
              "    }\n",
              "\n",
              "    .dataframe thead th {\n",
              "        text-align: right;\n",
              "    }\n",
              "</style>\n",
              "<table border=\"1\" class=\"dataframe\">\n",
              "  <thead>\n",
              "    <tr style=\"text-align: right;\">\n",
              "      <th></th>\n",
              "      <th>Model</th>\n",
              "      <th>Accuracy</th>\n",
              "      <th>Precision</th>\n",
              "      <th>Recall</th>\n",
              "      <th>F1 Score</th>\n",
              "    </tr>\n",
              "  </thead>\n",
              "  <tbody>\n",
              "    <tr>\n",
              "      <th>0</th>\n",
              "      <td>Linear Regression (Lasso)</td>\n",
              "      <td>0.562535</td>\n",
              "      <td>0.576386</td>\n",
              "      <td>0.706432</td>\n",
              "      <td>0.634817</td>\n",
              "    </tr>\n",
              "    <tr>\n",
              "      <th>1</th>\n",
              "      <td>SVM (Linear)</td>\n",
              "      <td>0.568398</td>\n",
              "      <td>0.577769</td>\n",
              "      <td>0.735996</td>\n",
              "      <td>0.647354</td>\n",
              "    </tr>\n",
              "    <tr>\n",
              "      <th>2</th>\n",
              "      <td>SVM (rbf)</td>\n",
              "      <td>0.591569</td>\n",
              "      <td>0.605730</td>\n",
              "      <td>0.690871</td>\n",
              "      <td>0.645505</td>\n",
              "    </tr>\n",
              "  </tbody>\n",
              "</table>\n",
              "</div>"
            ],
            "text/plain": [
              "                       Model  Accuracy  Precision    Recall  F1 Score\n",
              "0  Linear Regression (Lasso)  0.562535   0.576386  0.706432  0.634817\n",
              "1               SVM (Linear)  0.568398   0.577769  0.735996  0.647354\n",
              "2                  SVM (rbf)  0.591569   0.605730  0.690871  0.645505"
            ]
          },
          "metadata": {
            "tags": []
          },
          "execution_count": 31
        }
      ]
    },
    {
      "cell_type": "markdown",
      "metadata": {
        "id": "Df9-GlIKEzPS",
        "colab_type": "text"
      },
      "source": [
        "### Decision Tree"
      ]
    },
    {
      "cell_type": "markdown",
      "metadata": {
        "id": "w9mMOa0ZEtxT",
        "colab_type": "text"
      },
      "source": [
        ""
      ]
    },
    {
      "cell_type": "code",
      "metadata": {
        "id": "iokj82ESEu4Z",
        "colab_type": "code",
        "outputId": "6a013d16-ab9e-41c8-8354-960368f13baf",
        "colab": {
          "base_uri": "https://localhost:8080/",
          "height": 173
        }
      },
      "source": [
        "from sklearn.tree import DecisionTreeClassifier\n",
        "classifier = DecisionTreeClassifier(random_state = 0, max_depth = 5)\n",
        "classifier.fit(X_train, y_train)\n",
        "\n",
        "y_pred = classifier.predict(X_test)\n",
        "acc = accuracy_score(y_test, y_pred)\n",
        "prec = precision_score(y_test, y_pred)\n",
        "rec = recall_score(y_test, y_pred)\n",
        "f1 = f1_score(y_test, y_pred)\n",
        "\n",
        "model_results = pd.DataFrame([['Decision Tree (max_depth = 5)', acc, prec, rec, f1]],\n",
        "                       columns = ['Model', 'Accuracy', 'Precision', 'Recall', 'F1 Score'])\n",
        "results = results.append(model_results, ignore_index = True)\n",
        "results"
      ],
      "execution_count": 32,
      "outputs": [
        {
          "output_type": "execute_result",
          "data": {
            "text/html": [
              "<div>\n",
              "<style scoped>\n",
              "    .dataframe tbody tr th:only-of-type {\n",
              "        vertical-align: middle;\n",
              "    }\n",
              "\n",
              "    .dataframe tbody tr th {\n",
              "        vertical-align: top;\n",
              "    }\n",
              "\n",
              "    .dataframe thead th {\n",
              "        text-align: right;\n",
              "    }\n",
              "</style>\n",
              "<table border=\"1\" class=\"dataframe\">\n",
              "  <thead>\n",
              "    <tr style=\"text-align: right;\">\n",
              "      <th></th>\n",
              "      <th>Model</th>\n",
              "      <th>Accuracy</th>\n",
              "      <th>Precision</th>\n",
              "      <th>Recall</th>\n",
              "      <th>F1 Score</th>\n",
              "    </tr>\n",
              "  </thead>\n",
              "  <tbody>\n",
              "    <tr>\n",
              "      <th>0</th>\n",
              "      <td>Linear Regression (Lasso)</td>\n",
              "      <td>0.562535</td>\n",
              "      <td>0.576386</td>\n",
              "      <td>0.706432</td>\n",
              "      <td>0.634817</td>\n",
              "    </tr>\n",
              "    <tr>\n",
              "      <th>1</th>\n",
              "      <td>SVM (Linear)</td>\n",
              "      <td>0.568398</td>\n",
              "      <td>0.577769</td>\n",
              "      <td>0.735996</td>\n",
              "      <td>0.647354</td>\n",
              "    </tr>\n",
              "    <tr>\n",
              "      <th>2</th>\n",
              "      <td>SVM (rbf)</td>\n",
              "      <td>0.591569</td>\n",
              "      <td>0.605730</td>\n",
              "      <td>0.690871</td>\n",
              "      <td>0.645505</td>\n",
              "    </tr>\n",
              "    <tr>\n",
              "      <th>3</th>\n",
              "      <td>Decision Tree (max_depth = 5)</td>\n",
              "      <td>0.609994</td>\n",
              "      <td>0.632551</td>\n",
              "      <td>0.657158</td>\n",
              "      <td>0.644620</td>\n",
              "    </tr>\n",
              "  </tbody>\n",
              "</table>\n",
              "</div>"
            ],
            "text/plain": [
              "                           Model  Accuracy  Precision    Recall  F1 Score\n",
              "0      Linear Regression (Lasso)  0.562535   0.576386  0.706432  0.634817\n",
              "1                   SVM (Linear)  0.568398   0.577769  0.735996  0.647354\n",
              "2                      SVM (rbf)  0.591569   0.605730  0.690871  0.645505\n",
              "3  Decision Tree (max_depth = 5)  0.609994   0.632551  0.657158  0.644620"
            ]
          },
          "metadata": {
            "tags": []
          },
          "execution_count": 32
        }
      ]
    },
    {
      "cell_type": "markdown",
      "metadata": {
        "id": "09s0akEA7Lt7",
        "colab_type": "text"
      },
      "source": [
        "### Random Forest"
      ]
    },
    {
      "cell_type": "code",
      "metadata": {
        "id": "Nhkglhum6vGv",
        "colab_type": "code",
        "outputId": "7aa6d5e2-7055-4667-812c-c00c68364e28",
        "colab": {
          "base_uri": "https://localhost:8080/",
          "height": 204
        }
      },
      "source": [
        "from sklearn.ensemble import RandomForestClassifier\n",
        "classifier = RandomForestClassifier(random_state = 0, n_estimators = 100, criterion = 'entropy')\n",
        "classifier.fit(X_train, y_train)\n",
        "\n",
        "y_pred = classifier.predict(X_test)\n",
        "acc = accuracy_score(y_test, y_pred)\n",
        "prec = precision_score(y_test, y_pred)\n",
        "rec = recall_score(y_test, y_pred)\n",
        "f1 = f1_score(y_test, y_pred)\n",
        "\n",
        "model_results = pd.DataFrame([['Random Forest (n = 100)', acc, prec, rec, f1]],\n",
        "                       columns = ['Model', 'Accuracy', 'Precision', 'Recall', 'F1 Score'])\n",
        "results = results.append(model_results, ignore_index = True)\n",
        "results"
      ],
      "execution_count": 33,
      "outputs": [
        {
          "output_type": "execute_result",
          "data": {
            "text/html": [
              "<div>\n",
              "<style scoped>\n",
              "    .dataframe tbody tr th:only-of-type {\n",
              "        vertical-align: middle;\n",
              "    }\n",
              "\n",
              "    .dataframe tbody tr th {\n",
              "        vertical-align: top;\n",
              "    }\n",
              "\n",
              "    .dataframe thead th {\n",
              "        text-align: right;\n",
              "    }\n",
              "</style>\n",
              "<table border=\"1\" class=\"dataframe\">\n",
              "  <thead>\n",
              "    <tr style=\"text-align: right;\">\n",
              "      <th></th>\n",
              "      <th>Model</th>\n",
              "      <th>Accuracy</th>\n",
              "      <th>Precision</th>\n",
              "      <th>Recall</th>\n",
              "      <th>F1 Score</th>\n",
              "    </tr>\n",
              "  </thead>\n",
              "  <tbody>\n",
              "    <tr>\n",
              "      <th>0</th>\n",
              "      <td>Linear Regression (Lasso)</td>\n",
              "      <td>0.562535</td>\n",
              "      <td>0.576386</td>\n",
              "      <td>0.706432</td>\n",
              "      <td>0.634817</td>\n",
              "    </tr>\n",
              "    <tr>\n",
              "      <th>1</th>\n",
              "      <td>SVM (Linear)</td>\n",
              "      <td>0.568398</td>\n",
              "      <td>0.577769</td>\n",
              "      <td>0.735996</td>\n",
              "      <td>0.647354</td>\n",
              "    </tr>\n",
              "    <tr>\n",
              "      <th>2</th>\n",
              "      <td>SVM (rbf)</td>\n",
              "      <td>0.591569</td>\n",
              "      <td>0.605730</td>\n",
              "      <td>0.690871</td>\n",
              "      <td>0.645505</td>\n",
              "    </tr>\n",
              "    <tr>\n",
              "      <th>3</th>\n",
              "      <td>Decision Tree (max_depth = 5)</td>\n",
              "      <td>0.609994</td>\n",
              "      <td>0.632551</td>\n",
              "      <td>0.657158</td>\n",
              "      <td>0.644620</td>\n",
              "    </tr>\n",
              "    <tr>\n",
              "      <th>4</th>\n",
              "      <td>Random Forest (n = 100)</td>\n",
              "      <td>0.621720</td>\n",
              "      <td>0.640098</td>\n",
              "      <td>0.678942</td>\n",
              "      <td>0.658948</td>\n",
              "    </tr>\n",
              "  </tbody>\n",
              "</table>\n",
              "</div>"
            ],
            "text/plain": [
              "                           Model  Accuracy  Precision    Recall  F1 Score\n",
              "0      Linear Regression (Lasso)  0.562535   0.576386  0.706432  0.634817\n",
              "1                   SVM (Linear)  0.568398   0.577769  0.735996  0.647354\n",
              "2                      SVM (rbf)  0.591569   0.605730  0.690871  0.645505\n",
              "3  Decision Tree (max_depth = 5)  0.609994   0.632551  0.657158  0.644620\n",
              "4        Random Forest (n = 100)  0.621720   0.640098  0.678942  0.658948"
            ]
          },
          "metadata": {
            "tags": []
          },
          "execution_count": 33
        }
      ]
    },
    {
      "cell_type": "code",
      "metadata": {
        "id": "-WmkZUcwAc30",
        "colab_type": "code",
        "outputId": "c10d34fb-152d-42d2-dde4-5ad19e259400",
        "colab": {
          "base_uri": "https://localhost:8080/",
          "height": 34
        }
      },
      "source": [
        "# K-fold Cross Validation\n",
        "from sklearn.model_selection import cross_val_score\n",
        "accuracies = cross_val_score(estimator = classifier, X= X_train, y= y_train,\n",
        "                             cv = 12)\n",
        "print(\"Random Forest Classifier Accuracy: %0.2f (+/- %0.2f)\" % (accuracies.mean(), accuracies.std() * 2))"
      ],
      "execution_count": 34,
      "outputs": [
        {
          "output_type": "stream",
          "text": [
            "Random Forest Classifier Accuracy: 0.63 (+/- 0.03)\n"
          ],
          "name": "stdout"
        }
      ]
    },
    {
      "cell_type": "markdown",
      "metadata": {
        "id": "9vSh6A_EFB71",
        "colab_type": "text"
      },
      "source": [
        "##Parameter Tuning"
      ]
    },
    {
      "cell_type": "markdown",
      "metadata": {
        "id": "RvX997OMGKlb",
        "colab_type": "text"
      },
      "source": [
        "### Applying Grid Search"
      ]
    },
    {
      "cell_type": "code",
      "metadata": {
        "id": "fmWKSqUZCA0W",
        "colab_type": "code",
        "outputId": "b691e719-a2e2-460d-c47c-11899e8f1ba7",
        "colab": {
          "base_uri": "https://localhost:8080/",
          "height": 51
        }
      },
      "source": [
        "# Round 1: Entropy\n",
        "parameters = {\"max_depth\": [3, None],\n",
        "              \"max_features\": [1, 5, 10],\n",
        "              'min_samples_split': [2, 5, 10],\n",
        "              'min_samples_leaf': [1, 5, 10],\n",
        "              \"bootstrap\": [True, False],\n",
        "              \"criterion\": [\"entropy\"]\n",
        "              }\n",
        "from sklearn.model_selection import GridSearchCV\n",
        "grid_search = GridSearchCV(estimator = classifier,\n",
        "                           param_grid = parameters,\n",
        "                           scoring = \"accuracy\",\n",
        "                           cv = 10\n",
        "                           )\n",
        "t0 = time.time()\n",
        "print(t0)\n",
        "grid_search = grid_search.fit(X_train, y_train)\n",
        "t1 = time.time()\n",
        "print(\"Runtime: %0.2f seconds\" % (t1 - t0))"
      ],
      "execution_count": 35,
      "outputs": [
        {
          "output_type": "stream",
          "text": [
            "1592047315.4446626\n",
            "Runtime: 5508.68 seconds\n"
          ],
          "name": "stdout"
        }
      ]
    },
    {
      "cell_type": "code",
      "metadata": {
        "id": "UH-6g2wKIOHv",
        "colab_type": "code",
        "colab": {
          "base_uri": "https://localhost:8080/",
          "height": 34
        },
        "outputId": "1bf3eb38-f504-4e0c-f8e1-a844af7243ce"
      },
      "source": [
        "import tensorflow as tf\n",
        "tf.test.gpu_device_name()"
      ],
      "execution_count": 36,
      "outputs": [
        {
          "output_type": "execute_result",
          "data": {
            "text/plain": [
              "'/device:GPU:0'"
            ]
          },
          "metadata": {
            "tags": []
          },
          "execution_count": 36
        }
      ]
    },
    {
      "cell_type": "code",
      "metadata": {
        "id": "-hpMKbZhNSNQ",
        "colab_type": "code",
        "colab": {
          "base_uri": "https://localhost:8080/",
          "height": 136
        },
        "outputId": "c0bfc55b-f62d-48b4-bce7-13186f389aea"
      },
      "source": [
        "rf_best_accuracy = grid_search.best_score_\n",
        "rf_best_parameters = grid_search.best_params_\n",
        "rf_best_accuracy, rf_best_parameters "
      ],
      "execution_count": 37,
      "outputs": [
        {
          "output_type": "execute_result",
          "data": {
            "text/plain": [
              "(0.6345122647725013,\n",
              " {'bootstrap': True,\n",
              "  'criterion': 'entropy',\n",
              "  'max_depth': None,\n",
              "  'max_features': 5,\n",
              "  'min_samples_leaf': 5,\n",
              "  'min_samples_split': 2})"
            ]
          },
          "metadata": {
            "tags": []
          },
          "execution_count": 37
        }
      ]
    },
    {
      "cell_type": "code",
      "metadata": {
        "id": "FQJ7ndjTzJkk",
        "colab_type": "code",
        "colab": {
          "base_uri": "https://localhost:8080/",
          "height": 170
        },
        "outputId": "968f4a34-1a80-4df1-8b43-79bc641c9241"
      },
      "source": [
        "# Round 2: Entropy\n",
        "parameters = {\"max_depth\": [None],\n",
        "              \"max_features\": [3, 5, 7],\n",
        "              'min_samples_split': [1, 2, 3],\n",
        "              'min_samples_leaf': [4, 5, 6],\n",
        "              \"bootstrap\": [True],\n",
        "              \"criterion\": [\"entropy\"]\n",
        "              }\n",
        "from sklearn.model_selection import GridSearchCV\n",
        "grid_search = GridSearchCV(estimator = classifier,\n",
        "                           param_grid = parameters,\n",
        "                           scoring = \"accuracy\",\n",
        "                           cv = 10,\n",
        "                           n_jobs = -1\n",
        "                           )\n",
        "t0 = time.time()\n",
        "print(t0)\n",
        "grid_search = grid_search.fit(X_train, y_train)\n",
        "t1 = time.time()\n",
        "print(\"Runtime: %0.2f seconds\" % (t1 - t0))\n",
        "\n",
        "rf_best_accuracy = grid_search.best_score_\n",
        "rf_best_parameters = grid_search.best_params_\n",
        "rf_best_accuracy, rf_best_parameters"
      ],
      "execution_count": 38,
      "outputs": [
        {
          "output_type": "stream",
          "text": [
            "1592054308.8759334\n",
            "Runtime: 846.47 seconds\n"
          ],
          "name": "stdout"
        },
        {
          "output_type": "execute_result",
          "data": {
            "text/plain": [
              "(0.6348606470778575,\n",
              " {'bootstrap': True,\n",
              "  'criterion': 'entropy',\n",
              "  'max_depth': None,\n",
              "  'max_features': 7,\n",
              "  'min_samples_leaf': 6,\n",
              "  'min_samples_split': 2})"
            ]
          },
          "metadata": {
            "tags": []
          },
          "execution_count": 38
        }
      ]
    },
    {
      "cell_type": "code",
      "metadata": {
        "id": "hn1pPnHq1LMv",
        "colab_type": "code",
        "colab": {
          "base_uri": "https://localhost:8080/",
          "height": 235
        },
        "outputId": "72d86653-833c-49f8-fc48-c02f4f4f2f26"
      },
      "source": [
        "# Predicting Test Set\n",
        "y_pred = grid_search.predict(X_test)\n",
        "acc = accuracy_score(y_test, y_pred)\n",
        "prec = precision_score(y_test, y_pred)\n",
        "rec = recall_score(y_test, y_pred)\n",
        "f1 = f1_score(y_test, y_pred)\n",
        "\n",
        "model_results = pd.DataFrame([['Random Forest (n = 100, GSx2 + Entropy)', acc, prec, rec, f1]],\n",
        "                       columns = ['Model', 'Accuracy', 'Precision', 'Recall', 'F1 Score'])\n",
        "results = results.append(model_results, ignore_index = True)\n",
        "results"
      ],
      "execution_count": 39,
      "outputs": [
        {
          "output_type": "execute_result",
          "data": {
            "text/html": [
              "<div>\n",
              "<style scoped>\n",
              "    .dataframe tbody tr th:only-of-type {\n",
              "        vertical-align: middle;\n",
              "    }\n",
              "\n",
              "    .dataframe tbody tr th {\n",
              "        vertical-align: top;\n",
              "    }\n",
              "\n",
              "    .dataframe thead th {\n",
              "        text-align: right;\n",
              "    }\n",
              "</style>\n",
              "<table border=\"1\" class=\"dataframe\">\n",
              "  <thead>\n",
              "    <tr style=\"text-align: right;\">\n",
              "      <th></th>\n",
              "      <th>Model</th>\n",
              "      <th>Accuracy</th>\n",
              "      <th>Precision</th>\n",
              "      <th>Recall</th>\n",
              "      <th>F1 Score</th>\n",
              "    </tr>\n",
              "  </thead>\n",
              "  <tbody>\n",
              "    <tr>\n",
              "      <th>0</th>\n",
              "      <td>Linear Regression (Lasso)</td>\n",
              "      <td>0.562535</td>\n",
              "      <td>0.576386</td>\n",
              "      <td>0.706432</td>\n",
              "      <td>0.634817</td>\n",
              "    </tr>\n",
              "    <tr>\n",
              "      <th>1</th>\n",
              "      <td>SVM (Linear)</td>\n",
              "      <td>0.568398</td>\n",
              "      <td>0.577769</td>\n",
              "      <td>0.735996</td>\n",
              "      <td>0.647354</td>\n",
              "    </tr>\n",
              "    <tr>\n",
              "      <th>2</th>\n",
              "      <td>SVM (rbf)</td>\n",
              "      <td>0.591569</td>\n",
              "      <td>0.605730</td>\n",
              "      <td>0.690871</td>\n",
              "      <td>0.645505</td>\n",
              "    </tr>\n",
              "    <tr>\n",
              "      <th>3</th>\n",
              "      <td>Decision Tree (max_depth = 5)</td>\n",
              "      <td>0.609994</td>\n",
              "      <td>0.632551</td>\n",
              "      <td>0.657158</td>\n",
              "      <td>0.644620</td>\n",
              "    </tr>\n",
              "    <tr>\n",
              "      <th>4</th>\n",
              "      <td>Random Forest (n = 100)</td>\n",
              "      <td>0.621720</td>\n",
              "      <td>0.640098</td>\n",
              "      <td>0.678942</td>\n",
              "      <td>0.658948</td>\n",
              "    </tr>\n",
              "    <tr>\n",
              "      <th>5</th>\n",
              "      <td>Random Forest (n = 100, GSx2 + Entropy)</td>\n",
              "      <td>0.626466</td>\n",
              "      <td>0.641148</td>\n",
              "      <td>0.695021</td>\n",
              "      <td>0.666999</td>\n",
              "    </tr>\n",
              "  </tbody>\n",
              "</table>\n",
              "</div>"
            ],
            "text/plain": [
              "                                     Model  Accuracy  ...    Recall  F1 Score\n",
              "0                Linear Regression (Lasso)  0.562535  ...  0.706432  0.634817\n",
              "1                             SVM (Linear)  0.568398  ...  0.735996  0.647354\n",
              "2                                SVM (rbf)  0.591569  ...  0.690871  0.645505\n",
              "3            Decision Tree (max_depth = 5)  0.609994  ...  0.657158  0.644620\n",
              "4                  Random Forest (n = 100)  0.621720  ...  0.678942  0.658948\n",
              "5  Random Forest (n = 100, GSx2 + Entropy)  0.626466  ...  0.695021  0.666999\n",
              "\n",
              "[6 rows x 5 columns]"
            ]
          },
          "metadata": {
            "tags": []
          },
          "execution_count": 39
        }
      ]
    },
    {
      "cell_type": "code",
      "metadata": {
        "id": "wjJHf6tl6GmQ",
        "colab_type": "code",
        "colab": {
          "base_uri": "https://localhost:8080/",
          "height": 170
        },
        "outputId": "3805f9ea-a754-4f90-dae1-8c3ce14b7507"
      },
      "source": [
        "# Round 1: Gini\n",
        "parameters = {\"max_depth\": [3, None],\n",
        "              \"max_features\": [1, 5, 10],\n",
        "              'min_samples_split': [2, 5, 10],\n",
        "              'min_samples_leaf': [1, 5, 10],\n",
        "              \"bootstrap\": [True, False],\n",
        "              \"criterion\": [\"gini\"]\n",
        "              }\n",
        "from sklearn.model_selection import GridSearchCV\n",
        "grid_search = GridSearchCV(estimator = classifier,\n",
        "                           param_grid = parameters,\n",
        "                           scoring = \"accuracy\",\n",
        "                           cv = 10,\n",
        "                           n_jobs = -1\n",
        "                           )\n",
        "t0 = time.time()\n",
        "print(t0)\n",
        "grid_search = grid_search.fit(X_train, y_train)\n",
        "t1 = time.time()\n",
        "print(\"Runtime: %0.2f seconds\" % (t1 - t0))\n",
        "\n",
        "rf_best_accuracy = grid_search.best_score_\n",
        "rf_best_parameters = grid_search.best_params_\n",
        "rf_best_accuracy, rf_best_parameters"
      ],
      "execution_count": 40,
      "outputs": [
        {
          "output_type": "stream",
          "text": [
            "1592055826.1845384\n",
            "Runtime: 2453.67 seconds\n"
          ],
          "name": "stdout"
        },
        {
          "output_type": "execute_result",
          "data": {
            "text/plain": [
              "(0.6353512282315882,\n",
              " {'bootstrap': True,\n",
              "  'criterion': 'gini',\n",
              "  'max_depth': None,\n",
              "  'max_features': 10,\n",
              "  'min_samples_leaf': 5,\n",
              "  'min_samples_split': 2})"
            ]
          },
          "metadata": {
            "tags": []
          },
          "execution_count": 40
        }
      ]
    },
    {
      "cell_type": "code",
      "metadata": {
        "id": "YFnNrIlY69qZ",
        "colab_type": "code",
        "colab": {
          "base_uri": "https://localhost:8080/",
          "height": 170
        },
        "outputId": "b837d3af-8845-43d0-f65b-c2581efa9a7b"
      },
      "source": [
        "# Round 2: Gini\n",
        "parameters = {\"max_depth\": [None],\n",
        "              \"max_features\": [8, 10, 12],\n",
        "              'min_samples_split': [2, 3, 4],\n",
        "              'min_samples_leaf': [4, 5, 6],\n",
        "              \"bootstrap\": [True],\n",
        "              \"criterion\": [\"gini\"]\n",
        "              }\n",
        "from sklearn.model_selection import GridSearchCV\n",
        "grid_search = GridSearchCV(estimator = classifier,\n",
        "                           param_grid = parameters,\n",
        "                           scoring = \"accuracy\",\n",
        "                           cv = 10,\n",
        "                           n_jobs = -1\n",
        "                           )\n",
        "t0 = time.time()\n",
        "print(t0)\n",
        "grid_search = grid_search.fit(X_train, y_train)\n",
        "t1 = time.time()\n",
        "print(\"Runtime: %0.2f seconds\" % (t1 - t0))\n",
        "\n",
        "rf_best_accuracy = grid_search.best_score_\n",
        "rf_best_parameters = grid_search.best_params_\n",
        "rf_best_accuracy, rf_best_parameters"
      ],
      "execution_count": 41,
      "outputs": [
        {
          "output_type": "stream",
          "text": [
            "1592058538.7871923\n",
            "Runtime: 1350.37 seconds\n"
          ],
          "name": "stdout"
        },
        {
          "output_type": "execute_result",
          "data": {
            "text/plain": [
              "(0.6353512282315882,\n",
              " {'bootstrap': True,\n",
              "  'criterion': 'gini',\n",
              "  'max_depth': None,\n",
              "  'max_features': 10,\n",
              "  'min_samples_leaf': 5,\n",
              "  'min_samples_split': 2})"
            ]
          },
          "metadata": {
            "tags": []
          },
          "execution_count": 41
        }
      ]
    },
    {
      "cell_type": "code",
      "metadata": {
        "id": "tHT5qMSlFTuI",
        "colab_type": "code",
        "colab": {
          "base_uri": "https://localhost:8080/",
          "height": 266
        },
        "outputId": "0c8c310a-cb85-4ead-bec7-c2bc831a6d5b"
      },
      "source": [
        "# Predicting Test Set\n",
        "y_pred = grid_search.predict(X_test)\n",
        "acc = accuracy_score(y_test, y_pred)\n",
        "prec = precision_score(y_test, y_pred)\n",
        "rec = recall_score(y_test, y_pred)\n",
        "f1 = f1_score(y_test, y_pred)\n",
        "\n",
        "model_results = pd.DataFrame([['Random Forest (n = 100, GSx2 + Gini)', acc, prec, rec, f1]],\n",
        "                       columns = ['Model', 'Accuracy', 'Precision', 'Recall', 'F1 Score'])\n",
        "results = results.append(model_results, ignore_index = True)\n",
        "results"
      ],
      "execution_count": 42,
      "outputs": [
        {
          "output_type": "execute_result",
          "data": {
            "text/html": [
              "<div>\n",
              "<style scoped>\n",
              "    .dataframe tbody tr th:only-of-type {\n",
              "        vertical-align: middle;\n",
              "    }\n",
              "\n",
              "    .dataframe tbody tr th {\n",
              "        vertical-align: top;\n",
              "    }\n",
              "\n",
              "    .dataframe thead th {\n",
              "        text-align: right;\n",
              "    }\n",
              "</style>\n",
              "<table border=\"1\" class=\"dataframe\">\n",
              "  <thead>\n",
              "    <tr style=\"text-align: right;\">\n",
              "      <th></th>\n",
              "      <th>Model</th>\n",
              "      <th>Accuracy</th>\n",
              "      <th>Precision</th>\n",
              "      <th>Recall</th>\n",
              "      <th>F1 Score</th>\n",
              "    </tr>\n",
              "  </thead>\n",
              "  <tbody>\n",
              "    <tr>\n",
              "      <th>0</th>\n",
              "      <td>Linear Regression (Lasso)</td>\n",
              "      <td>0.562535</td>\n",
              "      <td>0.576386</td>\n",
              "      <td>0.706432</td>\n",
              "      <td>0.634817</td>\n",
              "    </tr>\n",
              "    <tr>\n",
              "      <th>1</th>\n",
              "      <td>SVM (Linear)</td>\n",
              "      <td>0.568398</td>\n",
              "      <td>0.577769</td>\n",
              "      <td>0.735996</td>\n",
              "      <td>0.647354</td>\n",
              "    </tr>\n",
              "    <tr>\n",
              "      <th>2</th>\n",
              "      <td>SVM (rbf)</td>\n",
              "      <td>0.591569</td>\n",
              "      <td>0.605730</td>\n",
              "      <td>0.690871</td>\n",
              "      <td>0.645505</td>\n",
              "    </tr>\n",
              "    <tr>\n",
              "      <th>3</th>\n",
              "      <td>Decision Tree (max_depth = 5)</td>\n",
              "      <td>0.609994</td>\n",
              "      <td>0.632551</td>\n",
              "      <td>0.657158</td>\n",
              "      <td>0.644620</td>\n",
              "    </tr>\n",
              "    <tr>\n",
              "      <th>4</th>\n",
              "      <td>Random Forest (n = 100)</td>\n",
              "      <td>0.621720</td>\n",
              "      <td>0.640098</td>\n",
              "      <td>0.678942</td>\n",
              "      <td>0.658948</td>\n",
              "    </tr>\n",
              "    <tr>\n",
              "      <th>5</th>\n",
              "      <td>Random Forest (n = 100, GSx2 + Entropy)</td>\n",
              "      <td>0.626466</td>\n",
              "      <td>0.641148</td>\n",
              "      <td>0.695021</td>\n",
              "      <td>0.666999</td>\n",
              "    </tr>\n",
              "    <tr>\n",
              "      <th>6</th>\n",
              "      <td>Random Forest (n = 100, GSx2 + Gini)</td>\n",
              "      <td>0.639587</td>\n",
              "      <td>0.653494</td>\n",
              "      <td>0.703320</td>\n",
              "      <td>0.677492</td>\n",
              "    </tr>\n",
              "  </tbody>\n",
              "</table>\n",
              "</div>"
            ],
            "text/plain": [
              "                                     Model  Accuracy  ...    Recall  F1 Score\n",
              "0                Linear Regression (Lasso)  0.562535  ...  0.706432  0.634817\n",
              "1                             SVM (Linear)  0.568398  ...  0.735996  0.647354\n",
              "2                                SVM (rbf)  0.591569  ...  0.690871  0.645505\n",
              "3            Decision Tree (max_depth = 5)  0.609994  ...  0.657158  0.644620\n",
              "4                  Random Forest (n = 100)  0.621720  ...  0.678942  0.658948\n",
              "5  Random Forest (n = 100, GSx2 + Entropy)  0.626466  ...  0.695021  0.666999\n",
              "6     Random Forest (n = 100, GSx2 + Gini)  0.639587  ...  0.703320  0.677492\n",
              "\n",
              "[7 rows x 5 columns]"
            ]
          },
          "metadata": {
            "tags": []
          },
          "execution_count": 42
        }
      ]
    },
    {
      "cell_type": "markdown",
      "metadata": {
        "id": "6graVxdaNI7O",
        "colab_type": "text"
      },
      "source": [
        "## Final Results "
      ]
    },
    {
      "cell_type": "code",
      "metadata": {
        "id": "7zR17i63Mo05",
        "colab_type": "code",
        "colab": {
          "base_uri": "https://localhost:8080/",
          "height": 419
        },
        "outputId": "7d10d0f8-a6f0-4a61-bda4-3b0134b0d231"
      },
      "source": [
        "final_results = pd.concat([y_test, users], axis = 1).dropna()\n",
        "final_results['predictions'] = y_pred\n",
        "final_results = final_results[['entry_id', 'e_signed', 'predictions']]\n",
        "final_results"
      ],
      "execution_count": 43,
      "outputs": [
        {
          "output_type": "execute_result",
          "data": {
            "text/html": [
              "<div>\n",
              "<style scoped>\n",
              "    .dataframe tbody tr th:only-of-type {\n",
              "        vertical-align: middle;\n",
              "    }\n",
              "\n",
              "    .dataframe tbody tr th {\n",
              "        vertical-align: top;\n",
              "    }\n",
              "\n",
              "    .dataframe thead th {\n",
              "        text-align: right;\n",
              "    }\n",
              "</style>\n",
              "<table border=\"1\" class=\"dataframe\">\n",
              "  <thead>\n",
              "    <tr style=\"text-align: right;\">\n",
              "      <th></th>\n",
              "      <th>entry_id</th>\n",
              "      <th>e_signed</th>\n",
              "      <th>predictions</th>\n",
              "    </tr>\n",
              "  </thead>\n",
              "  <tbody>\n",
              "    <tr>\n",
              "      <th>8</th>\n",
              "      <td>6493191</td>\n",
              "      <td>1.0</td>\n",
              "      <td>0</td>\n",
              "    </tr>\n",
              "    <tr>\n",
              "      <th>9</th>\n",
              "      <td>8908605</td>\n",
              "      <td>1.0</td>\n",
              "      <td>0</td>\n",
              "    </tr>\n",
              "    <tr>\n",
              "      <th>12</th>\n",
              "      <td>6889184</td>\n",
              "      <td>1.0</td>\n",
              "      <td>1</td>\n",
              "    </tr>\n",
              "    <tr>\n",
              "      <th>16</th>\n",
              "      <td>9375601</td>\n",
              "      <td>0.0</td>\n",
              "      <td>1</td>\n",
              "    </tr>\n",
              "    <tr>\n",
              "      <th>18</th>\n",
              "      <td>8515555</td>\n",
              "      <td>1.0</td>\n",
              "      <td>1</td>\n",
              "    </tr>\n",
              "    <tr>\n",
              "      <th>...</th>\n",
              "      <td>...</td>\n",
              "      <td>...</td>\n",
              "      <td>...</td>\n",
              "    </tr>\n",
              "    <tr>\n",
              "      <th>17881</th>\n",
              "      <td>5028251</td>\n",
              "      <td>1.0</td>\n",
              "      <td>1</td>\n",
              "    </tr>\n",
              "    <tr>\n",
              "      <th>17888</th>\n",
              "      <td>8958068</td>\n",
              "      <td>0.0</td>\n",
              "      <td>0</td>\n",
              "    </tr>\n",
              "    <tr>\n",
              "      <th>17890</th>\n",
              "      <td>3605941</td>\n",
              "      <td>0.0</td>\n",
              "      <td>1</td>\n",
              "    </tr>\n",
              "    <tr>\n",
              "      <th>17901</th>\n",
              "      <td>1807355</td>\n",
              "      <td>0.0</td>\n",
              "      <td>1</td>\n",
              "    </tr>\n",
              "    <tr>\n",
              "      <th>17907</th>\n",
              "      <td>1498559</td>\n",
              "      <td>1.0</td>\n",
              "      <td>1</td>\n",
              "    </tr>\n",
              "  </tbody>\n",
              "</table>\n",
              "<p>3582 rows × 3 columns</p>\n",
              "</div>"
            ],
            "text/plain": [
              "       entry_id  e_signed  predictions\n",
              "8       6493191       1.0            0\n",
              "9       8908605       1.0            0\n",
              "12      6889184       1.0            1\n",
              "16      9375601       0.0            1\n",
              "18      8515555       1.0            1\n",
              "...         ...       ...          ...\n",
              "17881   5028251       1.0            1\n",
              "17888   8958068       0.0            0\n",
              "17890   3605941       0.0            1\n",
              "17901   1807355       0.0            1\n",
              "17907   1498559       1.0            1\n",
              "\n",
              "[3582 rows x 3 columns]"
            ]
          },
          "metadata": {
            "tags": []
          },
          "execution_count": 43
        }
      ]
    },
    {
      "cell_type": "code",
      "metadata": {
        "id": "pINjahdTNwqV",
        "colab_type": "code",
        "colab": {}
      },
      "source": [
        ""
      ],
      "execution_count": 0,
      "outputs": []
    }
  ]
}